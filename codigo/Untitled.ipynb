{
 "cells": [
  {
   "cell_type": "code",
   "execution_count": null,
   "metadata": {},
   "outputs": [],
   "source": [
    "from graphviz import Digraph\n",
    "import networkx as nx\n",
    "import numpy as np\n",
    "import csv\n",
    "from numpy import loadtxt\n",
    "import matplotlib.pyplot as plt\n",
    "import pylab\n"
   ]
  },
  {
   "cell_type": "code",
   "execution_count": null,
   "metadata": {},
   "outputs": [],
   "source": [
    "    G = nx.Graph()\n",
    "    nombre=\"grafo\"\n",
    "    path = 'grafos/' + nombre + \".csv\"\n",
    "    f = plt.figure(nombre)\n",
    "    with open(path) as csvfile:\n",
    "        spamreader = csv.reader(csvfile, delimiter=',', quotechar='|')\n",
    "        for row in spamreader:\n",
    "            n = row[2]\n",
    "            #print(n)\n",
    "            G.add_edge(row[0], row[1], weight=n)\n",
    "    pos = nx.spring_layout(G)\n",
    "\n",
    "\n",
    "    edge_weights = {(u,v,):d['weight'] for u,v,d in G.edges(data=True)}\n",
    "    nx.draw(G, pos = pos, with_labels=True)\n",
    "    # nodes\n",
    "    nx.draw_networkx_nodes(G, pos, node_size=2)\n",
    "    #edge\n",
    "    ejes = [(u, v) for (u, v, d) in G.edges(data=True)]\n",
    "    nx.draw_networkx_edges(G,pos,edgelist=ejes,width=1, alpha=0.0)# edge_color='g', style='dashed')\n",
    "    nx.draw_networkx_edge_labels(G,pos,font_size=10,edge_labels=edge_weights)\n",
    "    print(\"AS\")"
   ]
  },
  {
   "cell_type": "code",
   "execution_count": null,
   "metadata": {},
   "outputs": [],
   "source": []
  }
 ],
 "metadata": {
  "kernelspec": {
   "display_name": "Python 3",
   "language": "python",
   "name": "python3"
  },
  "language_info": {
   "codemirror_mode": {
    "name": "ipython",
    "version": 3
   },
   "file_extension": ".py",
   "mimetype": "text/x-python",
   "name": "python",
   "nbconvert_exporter": "python",
   "pygments_lexer": "ipython3",
   "version": "3.6.4"
  }
 },
 "nbformat": 4,
 "nbformat_minor": 2
}
